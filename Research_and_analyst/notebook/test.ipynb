{
 "cells": [
  {
   "cell_type": "markdown",
   "metadata": {},
   "source": [
    "# ARRGS Test Notebook\n",
    "Testing the Automated Research and Report Generation System"
   ]
  },
  {
   "cell_type": "code",
   "execution_count": null,
   "metadata": {},
   "outputs": [],
   "source": [
    "# Import required libraries\n",
    "import os\n",
    "from dotenv import load_dotenv\n",
    "from langchain_core.messages import HumanMessage\n",
    "from langchain_openai import ChatOpenAI\n",
    "from langchain_google_genai import ChatGoogleGenerativeAI\n",
    "from langchain_groq import ChatGroq\n",
    "\n",
    "# Load environment variables\n",
    "load_dotenv()\n",
    "\n",
    "print(\"✅ Libraries imported successfully!\")"
   ]
  },
  {
   "cell_type": "code",
   "execution_count": null,
   "metadata": {},
   "outputs": [],
   "source": [
    "# Test API keys are loaded\n",
    "api_keys = {\n",
    "    \"OPENAI_API_KEY\": os.getenv(\"OPENAI_API_KEY\"),\n",
    "    \"GOOGLE_API_KEY\": os.getenv(\"GOOGLE_API_KEY\"),\n",
    "    \"GROQ_API_KEY\": os.getenv(\"GROQ_API_KEY\"),\n",
    "    \"TAVILY_API_KEY\": os.getenv(\"TAVILY_API_KEY\")\n",
    "}\n",
    "\n",
    "for key_name, key_value in api_keys.items():\n",
    "    if key_value:\n",
    "        print(f\"✅ {key_name}: Found\")\n",
    "    else:\n",
    "        print(f\"❌ {key_name}: Not found\")"
   ]
  },
  {
   "cell_type": "markdown",
   "metadata": {},
   "source": [
    "## Test LLM Connection\n",
    "Choose one of the LLM providers to test"
   ]
  },
  {
   "cell_type": "code",
   "execution_count": null,
   "metadata": {},
   "outputs": [],
   "source": [
    "# Test with Groq (fast and free for testing)\n",
    "try:\n",
    "    llm = ChatGroq(\n",
    "        model=\"mixtral-8x7b-32768\",\n",
    "        temperature=0,\n",
    "        api_key=os.getenv(\"GROQ_API_KEY\")\n",
    "    )\n",
    "    \n",
    "    response = llm.invoke([HumanMessage(content=\"Say 'Hello from ARRGS!' in one sentence\")])\n",
    "    print(f\"✅ Groq LLM Response: {response.content}\")\n",
    "except Exception as e:\n",
    "    print(f\"❌ Error with Groq: {e}\")"
   ]
  },
  {
   "cell_type": "code",
   "execution_count": null,
   "metadata": {},
   "outputs": [],
   "source": [
    "# Test with Google Gemini (if GOOGLE_API_KEY is available)\n",
    "try:\n",
    "    llm = ChatGoogleGenerativeAI(\n",
    "        model=\"gemini-pro\",\n",
    "        temperature=0,\n",
    "        google_api_key=os.getenv(\"GOOGLE_API_KEY\")\n",
    "    )\n",
    "    \n",
    "    response = llm.invoke([HumanMessage(content=\"Say 'Hello from ARRGS!' in one sentence\")])\n",
    "    print(f\"✅ Google Gemini Response: {response.content}\")\n",
    "except Exception as e:\n",
    "    print(f\"❌ Error with Google Gemini: {e}\")"
   ]
  },
  {
   "cell_type": "markdown",
   "metadata": {},
   "source": [
    "## Test Web Search with Tavily"
   ]
  },
  {
   "cell_type": "code",
   "execution_count": null,
   "metadata": {},
   "outputs": [],
   "source": [
    "# Test Tavily search\n",
    "try:\n",
    "    from tavily import TavilyClient\n",
    "    \n",
    "    tavily_client = TavilyClient(api_key=os.getenv(\"TAVILY_API_KEY\"))\n",
    "    \n",
    "    # Simple search test\n",
    "    results = tavily_client.search(\n",
    "        query=\"Latest developments in AI research 2025\",\n",
    "        max_results=3\n",
    "    )\n",
    "    \n",
    "    print(\"✅ Tavily Search Results:\")\n",
    "    for i, result in enumerate(results.get('results', []), 1):\n",
    "        print(f\"\\n{i}. {result.get('title', 'No title')}\")\n",
    "        print(f\"   URL: {result.get('url', 'No URL')}\")\n",
    "        print(f\"   Snippet: {result.get('content', 'No content')[:150]}...\")\n",
    "except Exception as e:\n",
    "    print(f\"❌ Error with Tavily: {e}\")"
   ]
  },
  {
   "cell_type": "markdown",
   "metadata": {},
   "source": [
    "## Test Wikipedia Retrieval"
   ]
  },
  {
   "cell_type": "code",
   "execution_count": null,
   "metadata": {},
   "outputs": [],
   "source": [
    "# Test Wikipedia\n",
    "try:\n",
    "    import wikipedia\n",
    "    \n",
    "    # Search for a topic\n",
    "    search_results = wikipedia.search(\"Artificial Intelligence\", results=3)\n",
    "    print(\"✅ Wikipedia Search Results:\")\n",
    "    print(search_results)\n",
    "    \n",
    "    # Get summary\n",
    "    summary = wikipedia.summary(\"Artificial Intelligence\", sentences=2)\n",
    "    print(\"\\n✅ Wikipedia Summary:\")\n",
    "    print(summary)\n",
    "except Exception as e:\n",
    "    print(f\"❌ Error with Wikipedia: {e}\")"
   ]
  },
  {
   "cell_type": "markdown",
   "metadata": {},
   "source": [
    "## Test LangGraph Basic Setup"
   ]
  },
  {
   "cell_type": "code",
   "execution_count": null,
   "metadata": {},
   "outputs": [],
   "source": [
    "# Test LangGraph imports\n",
    "try:\n",
    "    from langgraph.graph import StateGraph, START, END\n",
    "    from typing import TypedDict, Annotated\n",
    "    from operator import add\n",
    "    \n",
    "    # Define a simple state\n",
    "    class State(TypedDict):\n",
    "        messages: Annotated[list, add]\n",
    "    \n",
    "    # Create a simple graph\n",
    "    workflow = StateGraph(State)\n",
    "    \n",
    "    print(\"✅ LangGraph imported and initialized successfully!\")\n",
    "    print(f\"   Workflow type: {type(workflow)}\")\n",
    "except Exception as e:\n",
    "    print(f\"❌ Error with LangGraph: {e}\")"
   ]
  },
  {
   "cell_type": "markdown",
   "metadata": {},
   "source": [
    "## System Ready Check"
   ]
  },
  {
   "cell_type": "code",
   "execution_count": null,
   "metadata": {},
   "outputs": [],
   "source": [
    "# Final system check\n",
    "print(\"=\"*50)\n",
    "print(\"ARRGS System Status\")\n",
    "print(\"=\"*50)\n",
    "print(\"✅ Virtual Environment: Active\")\n",
    "print(\"✅ Dependencies: Installed\")\n",
    "print(\"✅ LangChain: Ready\")\n",
    "print(\"✅ LangGraph: Ready\")\n",
    "print(\"✅ LLM Providers: Configured\")\n",
    "print(\"✅ Search Tools: Available\")\n",
    "print(\"=\"*50)\n",
    "print(\"\\n🎉 System is ready for ARRGS development!\")"
   ]
  }
 ],
 "metadata": {
  "kernelspec": {
   "display_name": "Python (ARRGS)",
   "language": "python",
   "name": "automated-research-report-generation"
  },
  "language_info": {
   "codemirror_mode": {
    "name": "ipython",
    "version": 3
   },
   "file_extension": ".py",
   "mimetype": "text/x-python",
   "name": "python",
   "nbconvert_exporter": "python",
   "pygments_lexer": "ipython3",
   "version": "3.11.9"
  }
 },
 "nbformat": 4,
 "nbformat_minor": 4
}
